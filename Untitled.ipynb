{
 "cells": [
  {
   "cell_type": "code",
   "execution_count": 1,
   "id": "938dfca9",
   "metadata": {},
   "outputs": [],
   "source": [
    "import chromadb"
   ]
  },
  {
   "cell_type": "code",
   "execution_count": 4,
   "id": "74829e2d",
   "metadata": {},
   "outputs": [
    {
     "name": "stderr",
     "output_type": "stream",
     "text": [
      "No embedding_function provided, using default embedding function: DefaultEmbeddingFunction https://huggingface.co/sentence-transformers/all-MiniLM-L6-v2\n"
     ]
    },
    {
     "name": "stdout",
     "output_type": "stream",
     "text": [
      "{'ids': [['id3', 'id2']], 'embeddings': None, 'documents': [['I love noodles', 'This is a document about steak']], 'metadatas': [[{'source': 'doc3'}, {'source': 'doc2'}]], 'distances': [[1.2195738554000854, 1.5835548639297485]]}\n"
     ]
    }
   ],
   "source": [
    "chroma_client = chromadb.Client()\n",
    "\n",
    "collection = chroma_client.create_collection(name=\"my_collection\")\n",
    "\n",
    "collection.add(\n",
    "    documents=[\"This is a document about engineer\", \"This is a document about steak\",\"I love noodles\"],\n",
    "    metadatas=[{\"source\": \"doc1\"}, {\"source\": \"doc2\"}, {\"source\": \"doc3\"}],\n",
    "    ids=[\"id1\", \"id2\", \"id3\"]\n",
    ")\n",
    "\n",
    "results = collection.query(\n",
    "    query_texts=[\"Which food is the best?\"],\n",
    "    n_results=2\n",
    ")\n",
    "\n",
    "print(results)"
   ]
  },
  {
   "cell_type": "code",
   "execution_count": null,
   "id": "3705de32",
   "metadata": {},
   "outputs": [],
   "source": []
  }
 ],
 "metadata": {
  "kernelspec": {
   "display_name": "Python 3 (ipykernel)",
   "language": "python",
   "name": "python3"
  },
  "language_info": {
   "codemirror_mode": {
    "name": "ipython",
    "version": 3
   },
   "file_extension": ".py",
   "mimetype": "text/x-python",
   "name": "python",
   "nbconvert_exporter": "python",
   "pygments_lexer": "ipython3",
   "version": "3.11.3"
  }
 },
 "nbformat": 4,
 "nbformat_minor": 5
}
